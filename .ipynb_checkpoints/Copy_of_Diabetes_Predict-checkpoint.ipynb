{
 "cells": [
  {
   "cell_type": "markdown",
   "metadata": {
    "colab_type": "text",
    "id": "ppmkiuLF8bAv"
   },
   "source": [
    "### Importing Modules"
   ]
  },
  {
   "cell_type": "code",
   "execution_count": 1,
   "metadata": {
    "colab": {},
    "colab_type": "code",
    "id": "DVNn-YuvqQ3h"
   },
   "outputs": [],
   "source": [
    "import pandas as pd\n",
    "import numpy as np\n",
    "import matplotlib.pyplot as plt\n",
    "import seaborn as sns\n",
    "import warnings\n",
    "warnings.filterwarnings('ignore')\n",
    "warnings.filterwarnings('ignore', category=DeprecationWarning)"
   ]
  },
  {
   "cell_type": "markdown",
   "metadata": {
    "colab_type": "text",
    "id": "UuOJ7URl9UCY"
   },
   "source": [
    "### Storing data as a DataFrame"
   ]
  },
  {
   "cell_type": "code",
   "execution_count": 2,
   "metadata": {
    "colab": {},
    "colab_type": "code",
    "id": "VXWvDtZUx4sS"
   },
   "outputs": [],
   "source": [
    "#Data Source: https://data.world/abelvikas/diabetes-type-dataset\n",
    "df = pd.read_csv('Diabetestype.csv')"
   ]
  },
  {
   "cell_type": "markdown",
   "metadata": {
    "colab_type": "text",
    "id": "IeJA65AV9rCh"
   },
   "source": [
    "### Get info about the data"
   ]
  },
  {
   "cell_type": "code",
   "execution_count": 3,
   "metadata": {
    "colab": {
     "base_uri": "https://localhost:8080/",
     "height": 204
    },
    "colab_type": "code",
    "id": "hFSP5VM8Cn6c",
    "outputId": "4f0b92cf-a101-41d1-aa76-64ba8dad6c55"
   },
   "outputs": [
    {
     "data": {
      "text/html": [
       "<div>\n",
       "<style scoped>\n",
       "    .dataframe tbody tr th:only-of-type {\n",
       "        vertical-align: middle;\n",
       "    }\n",
       "\n",
       "    .dataframe tbody tr th {\n",
       "        vertical-align: top;\n",
       "    }\n",
       "\n",
       "    .dataframe thead th {\n",
       "        text-align: right;\n",
       "    }\n",
       "</style>\n",
       "<table border=\"1\" class=\"dataframe\">\n",
       "  <thead>\n",
       "    <tr style=\"text-align: right;\">\n",
       "      <th></th>\n",
       "      <th>Age</th>\n",
       "      <th>BS Fast</th>\n",
       "      <th>BS pp</th>\n",
       "      <th>Plasma R</th>\n",
       "      <th>Plasma F</th>\n",
       "      <th>HbA1c</th>\n",
       "      <th>Type</th>\n",
       "      <th>Class</th>\n",
       "    </tr>\n",
       "  </thead>\n",
       "  <tbody>\n",
       "    <tr>\n",
       "      <th>0</th>\n",
       "      <td>50</td>\n",
       "      <td>6.8</td>\n",
       "      <td>8.8</td>\n",
       "      <td>11.2</td>\n",
       "      <td>7.2</td>\n",
       "      <td>62</td>\n",
       "      <td>Type1</td>\n",
       "      <td>1</td>\n",
       "    </tr>\n",
       "    <tr>\n",
       "      <th>1</th>\n",
       "      <td>31</td>\n",
       "      <td>5.2</td>\n",
       "      <td>6.8</td>\n",
       "      <td>10.9</td>\n",
       "      <td>4.2</td>\n",
       "      <td>33</td>\n",
       "      <td>Normal</td>\n",
       "      <td>0</td>\n",
       "    </tr>\n",
       "    <tr>\n",
       "      <th>2</th>\n",
       "      <td>32</td>\n",
       "      <td>6.8</td>\n",
       "      <td>8.8</td>\n",
       "      <td>11.2</td>\n",
       "      <td>7.2</td>\n",
       "      <td>62</td>\n",
       "      <td>Type1</td>\n",
       "      <td>1</td>\n",
       "    </tr>\n",
       "    <tr>\n",
       "      <th>3</th>\n",
       "      <td>21</td>\n",
       "      <td>5.7</td>\n",
       "      <td>5.8</td>\n",
       "      <td>10.7</td>\n",
       "      <td>4.8</td>\n",
       "      <td>49</td>\n",
       "      <td>Normal</td>\n",
       "      <td>0</td>\n",
       "    </tr>\n",
       "    <tr>\n",
       "      <th>4</th>\n",
       "      <td>33</td>\n",
       "      <td>6.8</td>\n",
       "      <td>8.8</td>\n",
       "      <td>11.2</td>\n",
       "      <td>7.2</td>\n",
       "      <td>62</td>\n",
       "      <td>Type1</td>\n",
       "      <td>1</td>\n",
       "    </tr>\n",
       "  </tbody>\n",
       "</table>\n",
       "</div>"
      ],
      "text/plain": [
       "   Age  BS Fast  BS pp  Plasma R  Plasma F  HbA1c    Type  Class\n",
       "0   50      6.8    8.8      11.2       7.2     62   Type1      1\n",
       "1   31      5.2    6.8      10.9       4.2     33  Normal      0\n",
       "2   32      6.8    8.8      11.2       7.2     62   Type1      1\n",
       "3   21      5.7    5.8      10.7       4.8     49  Normal      0\n",
       "4   33      6.8    8.8      11.2       7.2     62   Type1      1"
      ]
     },
     "execution_count": 3,
     "metadata": {},
     "output_type": "execute_result"
    }
   ],
   "source": [
    "df.head()"
   ]
  },
  {
   "cell_type": "markdown",
   "metadata": {
    "colab_type": "text",
    "id": "_HNFaxl11m9_"
   },
   "source": [
    "## Feature Information\n",
    "\n",
    "* Age: This is the age of the patients\n",
    "* BS Fast: This is the blood sugar in fasting (Before Meals), mmol/L\n",
    "* BS pp: This is the blood sugar in 90 mins after meals mmol/L\n",
    "* Plasma R: Plasma glucose test randomly taken at any time, mmol/L\n",
    "* Plasma F: Plasma glucose test fasting usually taken in the morning because it should be taken after at least 8 hours, mmol/L\n",
    "*  HbA1c: No information provided, mmol/L\n"
   ]
  },
  {
   "cell_type": "code",
   "execution_count": 4,
   "metadata": {
    "colab": {
     "base_uri": "https://localhost:8080/",
     "height": 264
    },
    "colab_type": "code",
    "id": "ji3b1Y-s9iAA",
    "outputId": "dcb94271-be7d-4284-ce4a-10c85a646158"
   },
   "outputs": [
    {
     "name": "stdout",
     "output_type": "stream",
     "text": [
      "<class 'pandas.core.frame.DataFrame'>\n",
      "RangeIndex: 1009 entries, 0 to 1008\n",
      "Data columns (total 8 columns):\n",
      " #   Column    Non-Null Count  Dtype  \n",
      "---  ------    --------------  -----  \n",
      " 0   Age       1009 non-null   int64  \n",
      " 1   BS Fast   1009 non-null   float64\n",
      " 2   BS pp     1009 non-null   float64\n",
      " 3   Plasma R  1009 non-null   float64\n",
      " 4   Plasma F  1009 non-null   float64\n",
      " 5   HbA1c     1009 non-null   int64  \n",
      " 6   Type      1009 non-null   object \n",
      " 7   Class     1009 non-null   int64  \n",
      "dtypes: float64(4), int64(3), object(1)\n",
      "memory usage: 63.2+ KB\n"
     ]
    }
   ],
   "source": [
    "df.info() #The data has been cleaned, no missing values, represented with their correct datatype"
   ]
  },
  {
   "cell_type": "code",
   "execution_count": 5,
   "metadata": {
    "colab": {
     "base_uri": "https://localhost:8080/",
     "height": 297
    },
    "colab_type": "code",
    "id": "hp1MxR1_9wJR",
    "outputId": "7e5650ba-2927-4f00-9ea6-bd5b422373fa"
   },
   "outputs": [
    {
     "data": {
      "text/html": [
       "<div>\n",
       "<style scoped>\n",
       "    .dataframe tbody tr th:only-of-type {\n",
       "        vertical-align: middle;\n",
       "    }\n",
       "\n",
       "    .dataframe tbody tr th {\n",
       "        vertical-align: top;\n",
       "    }\n",
       "\n",
       "    .dataframe thead th {\n",
       "        text-align: right;\n",
       "    }\n",
       "</style>\n",
       "<table border=\"1\" class=\"dataframe\">\n",
       "  <thead>\n",
       "    <tr style=\"text-align: right;\">\n",
       "      <th></th>\n",
       "      <th>Age</th>\n",
       "      <th>BS Fast</th>\n",
       "      <th>BS pp</th>\n",
       "      <th>Plasma R</th>\n",
       "      <th>Plasma F</th>\n",
       "      <th>HbA1c</th>\n",
       "      <th>Class</th>\n",
       "    </tr>\n",
       "  </thead>\n",
       "  <tbody>\n",
       "    <tr>\n",
       "      <th>count</th>\n",
       "      <td>1009.000000</td>\n",
       "      <td>1009.000000</td>\n",
       "      <td>1009.000000</td>\n",
       "      <td>1009.000000</td>\n",
       "      <td>1009.000000</td>\n",
       "      <td>1009.000000</td>\n",
       "      <td>1009.000000</td>\n",
       "    </tr>\n",
       "    <tr>\n",
       "      <th>mean</th>\n",
       "      <td>33.398414</td>\n",
       "      <td>12.571853</td>\n",
       "      <td>6.659167</td>\n",
       "      <td>10.728741</td>\n",
       "      <td>6.136075</td>\n",
       "      <td>43.481665</td>\n",
       "      <td>0.374628</td>\n",
       "    </tr>\n",
       "    <tr>\n",
       "      <th>std</th>\n",
       "      <td>11.633364</td>\n",
       "      <td>12.334019</td>\n",
       "      <td>1.205188</td>\n",
       "      <td>1.436979</td>\n",
       "      <td>1.620659</td>\n",
       "      <td>12.067515</td>\n",
       "      <td>0.484267</td>\n",
       "    </tr>\n",
       "    <tr>\n",
       "      <th>min</th>\n",
       "      <td>21.000000</td>\n",
       "      <td>0.000000</td>\n",
       "      <td>4.200000</td>\n",
       "      <td>7.900000</td>\n",
       "      <td>3.900000</td>\n",
       "      <td>28.000000</td>\n",
       "      <td>0.000000</td>\n",
       "    </tr>\n",
       "    <tr>\n",
       "      <th>25%</th>\n",
       "      <td>24.000000</td>\n",
       "      <td>5.600000</td>\n",
       "      <td>5.800000</td>\n",
       "      <td>10.200000</td>\n",
       "      <td>4.800000</td>\n",
       "      <td>33.000000</td>\n",
       "      <td>0.000000</td>\n",
       "    </tr>\n",
       "    <tr>\n",
       "      <th>50%</th>\n",
       "      <td>29.000000</td>\n",
       "      <td>6.700000</td>\n",
       "      <td>6.800000</td>\n",
       "      <td>10.900000</td>\n",
       "      <td>5.600000</td>\n",
       "      <td>40.000000</td>\n",
       "      <td>0.000000</td>\n",
       "    </tr>\n",
       "    <tr>\n",
       "      <th>75%</th>\n",
       "      <td>41.000000</td>\n",
       "      <td>20.000000</td>\n",
       "      <td>7.700000</td>\n",
       "      <td>11.400000</td>\n",
       "      <td>7.800000</td>\n",
       "      <td>53.000000</td>\n",
       "      <td>1.000000</td>\n",
       "    </tr>\n",
       "    <tr>\n",
       "      <th>max</th>\n",
       "      <td>81.000000</td>\n",
       "      <td>54.000000</td>\n",
       "      <td>8.800000</td>\n",
       "      <td>13.100000</td>\n",
       "      <td>9.100000</td>\n",
       "      <td>69.000000</td>\n",
       "      <td>1.000000</td>\n",
       "    </tr>\n",
       "  </tbody>\n",
       "</table>\n",
       "</div>"
      ],
      "text/plain": [
       "               Age      BS Fast        BS pp     Plasma R     Plasma F  \\\n",
       "count  1009.000000  1009.000000  1009.000000  1009.000000  1009.000000   \n",
       "mean     33.398414    12.571853     6.659167    10.728741     6.136075   \n",
       "std      11.633364    12.334019     1.205188     1.436979     1.620659   \n",
       "min      21.000000     0.000000     4.200000     7.900000     3.900000   \n",
       "25%      24.000000     5.600000     5.800000    10.200000     4.800000   \n",
       "50%      29.000000     6.700000     6.800000    10.900000     5.600000   \n",
       "75%      41.000000    20.000000     7.700000    11.400000     7.800000   \n",
       "max      81.000000    54.000000     8.800000    13.100000     9.100000   \n",
       "\n",
       "             HbA1c        Class  \n",
       "count  1009.000000  1009.000000  \n",
       "mean     43.481665     0.374628  \n",
       "std      12.067515     0.484267  \n",
       "min      28.000000     0.000000  \n",
       "25%      33.000000     0.000000  \n",
       "50%      40.000000     0.000000  \n",
       "75%      53.000000     1.000000  \n",
       "max      69.000000     1.000000  "
      ]
     },
     "execution_count": 5,
     "metadata": {},
     "output_type": "execute_result"
    }
   ],
   "source": [
    "df.describe()"
   ]
  },
  {
   "cell_type": "markdown",
   "metadata": {
    "colab_type": "text",
    "id": "EegcbIVE-LEq"
   },
   "source": [
    "### Data Cleaning"
   ]
  },
  {
   "cell_type": "code",
   "execution_count": 6,
   "metadata": {
    "colab": {
     "base_uri": "https://localhost:8080/",
     "height": 419
    },
    "colab_type": "code",
    "id": "5a5kBAPv9z-V",
    "outputId": "2a4890e3-278c-47af-f4a2-99f007bb3fe7"
   },
   "outputs": [
    {
     "data": {
      "text/html": [
       "<div>\n",
       "<style scoped>\n",
       "    .dataframe tbody tr th:only-of-type {\n",
       "        vertical-align: middle;\n",
       "    }\n",
       "\n",
       "    .dataframe tbody tr th {\n",
       "        vertical-align: top;\n",
       "    }\n",
       "\n",
       "    .dataframe thead th {\n",
       "        text-align: right;\n",
       "    }\n",
       "</style>\n",
       "<table border=\"1\" class=\"dataframe\">\n",
       "  <thead>\n",
       "    <tr style=\"text-align: right;\">\n",
       "      <th></th>\n",
       "      <th>Age</th>\n",
       "      <th>BS Fast</th>\n",
       "      <th>BS pp</th>\n",
       "      <th>Plasma R</th>\n",
       "      <th>Plasma F</th>\n",
       "      <th>HbA1c</th>\n",
       "      <th>Type</th>\n",
       "      <th>Class</th>\n",
       "    </tr>\n",
       "  </thead>\n",
       "  <tbody>\n",
       "    <tr>\n",
       "      <th>0</th>\n",
       "      <td>50</td>\n",
       "      <td>6.8</td>\n",
       "      <td>8.8</td>\n",
       "      <td>11.2</td>\n",
       "      <td>7.2</td>\n",
       "      <td>62</td>\n",
       "      <td>Type1</td>\n",
       "      <td>1</td>\n",
       "    </tr>\n",
       "    <tr>\n",
       "      <th>1</th>\n",
       "      <td>31</td>\n",
       "      <td>5.2</td>\n",
       "      <td>6.8</td>\n",
       "      <td>10.9</td>\n",
       "      <td>4.2</td>\n",
       "      <td>33</td>\n",
       "      <td>Normal</td>\n",
       "      <td>0</td>\n",
       "    </tr>\n",
       "    <tr>\n",
       "      <th>2</th>\n",
       "      <td>32</td>\n",
       "      <td>6.8</td>\n",
       "      <td>8.8</td>\n",
       "      <td>11.2</td>\n",
       "      <td>7.2</td>\n",
       "      <td>62</td>\n",
       "      <td>Type1</td>\n",
       "      <td>1</td>\n",
       "    </tr>\n",
       "    <tr>\n",
       "      <th>3</th>\n",
       "      <td>21</td>\n",
       "      <td>5.7</td>\n",
       "      <td>5.8</td>\n",
       "      <td>10.7</td>\n",
       "      <td>4.8</td>\n",
       "      <td>49</td>\n",
       "      <td>Normal</td>\n",
       "      <td>0</td>\n",
       "    </tr>\n",
       "    <tr>\n",
       "      <th>4</th>\n",
       "      <td>33</td>\n",
       "      <td>6.8</td>\n",
       "      <td>8.8</td>\n",
       "      <td>11.2</td>\n",
       "      <td>7.2</td>\n",
       "      <td>62</td>\n",
       "      <td>Type1</td>\n",
       "      <td>1</td>\n",
       "    </tr>\n",
       "    <tr>\n",
       "      <th>...</th>\n",
       "      <td>...</td>\n",
       "      <td>...</td>\n",
       "      <td>...</td>\n",
       "      <td>...</td>\n",
       "      <td>...</td>\n",
       "      <td>...</td>\n",
       "      <td>...</td>\n",
       "      <td>...</td>\n",
       "    </tr>\n",
       "    <tr>\n",
       "      <th>1004</th>\n",
       "      <td>37</td>\n",
       "      <td>0.0</td>\n",
       "      <td>5.6</td>\n",
       "      <td>10.2</td>\n",
       "      <td>5.4</td>\n",
       "      <td>32</td>\n",
       "      <td>Normal</td>\n",
       "      <td>0</td>\n",
       "    </tr>\n",
       "    <tr>\n",
       "      <th>1005</th>\n",
       "      <td>23</td>\n",
       "      <td>6.3</td>\n",
       "      <td>4.2</td>\n",
       "      <td>12.2</td>\n",
       "      <td>7.8</td>\n",
       "      <td>57</td>\n",
       "      <td>Type2</td>\n",
       "      <td>1</td>\n",
       "    </tr>\n",
       "    <tr>\n",
       "      <th>1006</th>\n",
       "      <td>37</td>\n",
       "      <td>32.0</td>\n",
       "      <td>7.4</td>\n",
       "      <td>8.7</td>\n",
       "      <td>5.6</td>\n",
       "      <td>41</td>\n",
       "      <td>Normal</td>\n",
       "      <td>0</td>\n",
       "    </tr>\n",
       "    <tr>\n",
       "      <th>1007</th>\n",
       "      <td>46</td>\n",
       "      <td>19.0</td>\n",
       "      <td>6.3</td>\n",
       "      <td>7.9</td>\n",
       "      <td>3.9</td>\n",
       "      <td>40</td>\n",
       "      <td>Normal</td>\n",
       "      <td>0</td>\n",
       "    </tr>\n",
       "    <tr>\n",
       "      <th>1008</th>\n",
       "      <td>25</td>\n",
       "      <td>16.0</td>\n",
       "      <td>6.3</td>\n",
       "      <td>7.9</td>\n",
       "      <td>3.9</td>\n",
       "      <td>40</td>\n",
       "      <td>Normal</td>\n",
       "      <td>0</td>\n",
       "    </tr>\n",
       "  </tbody>\n",
       "</table>\n",
       "<p>1009 rows × 8 columns</p>\n",
       "</div>"
      ],
      "text/plain": [
       "      Age  BS Fast  BS pp  Plasma R  Plasma F  HbA1c    Type  Class\n",
       "0      50      6.8    8.8      11.2       7.2     62   Type1      1\n",
       "1      31      5.2    6.8      10.9       4.2     33  Normal      0\n",
       "2      32      6.8    8.8      11.2       7.2     62   Type1      1\n",
       "3      21      5.7    5.8      10.7       4.8     49  Normal      0\n",
       "4      33      6.8    8.8      11.2       7.2     62   Type1      1\n",
       "...   ...      ...    ...       ...       ...    ...     ...    ...\n",
       "1004   37      0.0    5.6      10.2       5.4     32  Normal      0\n",
       "1005   23      6.3    4.2      12.2       7.8     57   Type2      1\n",
       "1006   37     32.0    7.4       8.7       5.6     41  Normal      0\n",
       "1007   46     19.0    6.3       7.9       3.9     40  Normal      0\n",
       "1008   25     16.0    6.3       7.9       3.9     40  Normal      0\n",
       "\n",
       "[1009 rows x 8 columns]"
      ]
     },
     "execution_count": 6,
     "metadata": {},
     "output_type": "execute_result"
    }
   ],
   "source": [
    "df"
   ]
  },
  {
   "cell_type": "code",
   "execution_count": 7,
   "metadata": {
    "colab": {},
    "colab_type": "code",
    "id": "dt6zlFYY-N28"
   },
   "outputs": [],
   "source": [
    "#Dropping the class feature\n",
    "df.drop(\"Class\",1,inplace=True)"
   ]
  },
  {
   "cell_type": "code",
   "execution_count": 8,
   "metadata": {
    "colab": {
     "base_uri": "https://localhost:8080/",
     "height": 419
    },
    "colab_type": "code",
    "id": "HhZXBezB-cGn",
    "outputId": "0f3c45a4-ed0a-453d-b54f-b56fa261f106"
   },
   "outputs": [
    {
     "data": {
      "text/html": [
       "<div>\n",
       "<style scoped>\n",
       "    .dataframe tbody tr th:only-of-type {\n",
       "        vertical-align: middle;\n",
       "    }\n",
       "\n",
       "    .dataframe tbody tr th {\n",
       "        vertical-align: top;\n",
       "    }\n",
       "\n",
       "    .dataframe thead th {\n",
       "        text-align: right;\n",
       "    }\n",
       "</style>\n",
       "<table border=\"1\" class=\"dataframe\">\n",
       "  <thead>\n",
       "    <tr style=\"text-align: right;\">\n",
       "      <th></th>\n",
       "      <th>Age</th>\n",
       "      <th>BS Fast</th>\n",
       "      <th>BS pp</th>\n",
       "      <th>Plasma R</th>\n",
       "      <th>Plasma F</th>\n",
       "      <th>HbA1c</th>\n",
       "      <th>Type</th>\n",
       "    </tr>\n",
       "  </thead>\n",
       "  <tbody>\n",
       "    <tr>\n",
       "      <th>0</th>\n",
       "      <td>50</td>\n",
       "      <td>6.8</td>\n",
       "      <td>8.8</td>\n",
       "      <td>11.2</td>\n",
       "      <td>7.2</td>\n",
       "      <td>62</td>\n",
       "      <td>Type1</td>\n",
       "    </tr>\n",
       "    <tr>\n",
       "      <th>1</th>\n",
       "      <td>31</td>\n",
       "      <td>5.2</td>\n",
       "      <td>6.8</td>\n",
       "      <td>10.9</td>\n",
       "      <td>4.2</td>\n",
       "      <td>33</td>\n",
       "      <td>Normal</td>\n",
       "    </tr>\n",
       "    <tr>\n",
       "      <th>2</th>\n",
       "      <td>32</td>\n",
       "      <td>6.8</td>\n",
       "      <td>8.8</td>\n",
       "      <td>11.2</td>\n",
       "      <td>7.2</td>\n",
       "      <td>62</td>\n",
       "      <td>Type1</td>\n",
       "    </tr>\n",
       "    <tr>\n",
       "      <th>3</th>\n",
       "      <td>21</td>\n",
       "      <td>5.7</td>\n",
       "      <td>5.8</td>\n",
       "      <td>10.7</td>\n",
       "      <td>4.8</td>\n",
       "      <td>49</td>\n",
       "      <td>Normal</td>\n",
       "    </tr>\n",
       "    <tr>\n",
       "      <th>4</th>\n",
       "      <td>33</td>\n",
       "      <td>6.8</td>\n",
       "      <td>8.8</td>\n",
       "      <td>11.2</td>\n",
       "      <td>7.2</td>\n",
       "      <td>62</td>\n",
       "      <td>Type1</td>\n",
       "    </tr>\n",
       "    <tr>\n",
       "      <th>...</th>\n",
       "      <td>...</td>\n",
       "      <td>...</td>\n",
       "      <td>...</td>\n",
       "      <td>...</td>\n",
       "      <td>...</td>\n",
       "      <td>...</td>\n",
       "      <td>...</td>\n",
       "    </tr>\n",
       "    <tr>\n",
       "      <th>1004</th>\n",
       "      <td>37</td>\n",
       "      <td>0.0</td>\n",
       "      <td>5.6</td>\n",
       "      <td>10.2</td>\n",
       "      <td>5.4</td>\n",
       "      <td>32</td>\n",
       "      <td>Normal</td>\n",
       "    </tr>\n",
       "    <tr>\n",
       "      <th>1005</th>\n",
       "      <td>23</td>\n",
       "      <td>6.3</td>\n",
       "      <td>4.2</td>\n",
       "      <td>12.2</td>\n",
       "      <td>7.8</td>\n",
       "      <td>57</td>\n",
       "      <td>Type2</td>\n",
       "    </tr>\n",
       "    <tr>\n",
       "      <th>1006</th>\n",
       "      <td>37</td>\n",
       "      <td>32.0</td>\n",
       "      <td>7.4</td>\n",
       "      <td>8.7</td>\n",
       "      <td>5.6</td>\n",
       "      <td>41</td>\n",
       "      <td>Normal</td>\n",
       "    </tr>\n",
       "    <tr>\n",
       "      <th>1007</th>\n",
       "      <td>46</td>\n",
       "      <td>19.0</td>\n",
       "      <td>6.3</td>\n",
       "      <td>7.9</td>\n",
       "      <td>3.9</td>\n",
       "      <td>40</td>\n",
       "      <td>Normal</td>\n",
       "    </tr>\n",
       "    <tr>\n",
       "      <th>1008</th>\n",
       "      <td>25</td>\n",
       "      <td>16.0</td>\n",
       "      <td>6.3</td>\n",
       "      <td>7.9</td>\n",
       "      <td>3.9</td>\n",
       "      <td>40</td>\n",
       "      <td>Normal</td>\n",
       "    </tr>\n",
       "  </tbody>\n",
       "</table>\n",
       "<p>1009 rows × 7 columns</p>\n",
       "</div>"
      ],
      "text/plain": [
       "      Age  BS Fast  BS pp  Plasma R  Plasma F  HbA1c    Type\n",
       "0      50      6.8    8.8      11.2       7.2     62   Type1\n",
       "1      31      5.2    6.8      10.9       4.2     33  Normal\n",
       "2      32      6.8    8.8      11.2       7.2     62   Type1\n",
       "3      21      5.7    5.8      10.7       4.8     49  Normal\n",
       "4      33      6.8    8.8      11.2       7.2     62   Type1\n",
       "...   ...      ...    ...       ...       ...    ...     ...\n",
       "1004   37      0.0    5.6      10.2       5.4     32  Normal\n",
       "1005   23      6.3    4.2      12.2       7.8     57   Type2\n",
       "1006   37     32.0    7.4       8.7       5.6     41  Normal\n",
       "1007   46     19.0    6.3       7.9       3.9     40  Normal\n",
       "1008   25     16.0    6.3       7.9       3.9     40  Normal\n",
       "\n",
       "[1009 rows x 7 columns]"
      ]
     },
     "execution_count": 8,
     "metadata": {},
     "output_type": "execute_result"
    }
   ],
   "source": [
    "df"
   ]
  },
  {
   "cell_type": "markdown",
   "metadata": {
    "colab_type": "text",
    "id": "u0SmIPjp-iEA"
   },
   "source": [
    "# Exploratory Data Analysis"
   ]
  },
  {
   "cell_type": "code",
   "execution_count": 9,
   "metadata": {
    "colab": {
     "base_uri": "https://localhost:8080/",
     "height": 516
    },
    "colab_type": "code",
    "id": "Qgp0C3a6-c68",
    "outputId": "43a193b5-8246-46e6-cd99-11b19d628edf"
   },
   "outputs": [
    {
     "data": {
      "text/plain": [
       "<matplotlib.axes._subplots.AxesSubplot at 0x7f95fdac2400>"
      ]
     },
     "execution_count": 9,
     "metadata": {},
     "output_type": "execute_result"
    },
    {
     "data": {
      "image/png": "[encoded data removed]",
      "text/plain": [
       "<Figure size 864x576 with 1 Axes>"
      ]
     },
     "metadata": {
      "needs_background": "light"
     },
     "output_type": "display_data"
    }
   ],
   "source": [
    "plt.figure(figsize=(12,8))\n",
    "sns.countplot(df.Type)"
   ]
  },
  {
   "cell_type": "markdown",
   "metadata": {
    "colab_type": "text",
    "id": "lZjhhUr0-14G"
   },
   "source": [
    "* From the data collected, a lot of Patients are normal, and not diabetic and patients with Type1 diabetic are lesser compared to type2, which makes sense, type1 diabetics are not so common"
   ]
  },
  {
   "cell_type": "code",
   "execution_count": 0,
   "metadata": {
    "colab": {
     "base_uri": "https://localhost:8080/",
     "height": 873
    },
    "colab_type": "code",
    "id": "HfcQMozK-sSu",
    "outputId": "f2393c71-1630-45cb-e582-6a19f4d8e4b8"
   },
   "outputs": [
    {
     "data": {
      "text/plain": [
       "<matplotlib.axes._subplots.AxesSubplot at 0x7fd53ce4a588>"
      ]
     },
     "execution_count": 10,
     "metadata": {
      "tags": []
     },
     "output_type": "execute_result"
    },
    {
     "data": {
      "image/png": "[encoded data removed]",
      "text/plain": [
       "<Figure size 2160x576 with 1 Axes>"
      ]
     },
     "metadata": {
      "tags": []
     },
     "output_type": "display_data"
    }
   ],
   "source": [
    "plt.figure(figsize=(30,8))\n",
    "sns.countplot(df.Type,hue=df.Age)"
   ]
  },
  {
   "cell_type": "code",
   "execution_count": 0,
   "metadata": {
    "colab": {
     "base_uri": "https://localhost:8080/",
     "height": 552
    },
    "colab_type": "code",
    "id": "eXRA537P_eDB",
    "outputId": "a91f5c29-70f7-447f-cace-92a810d8d099"
   },
   "outputs": [
    {
     "data": {
      "text/plain": [
       "Text(0.5, 1.0, 'Box Plot of Age with Blood Sugar Level')"
      ]
     },
     "execution_count": 11,
     "metadata": {
      "tags": []
     },
     "output_type": "execute_result"
    },
    {
     "data": {
      "image/png": "[encoded data removed]",
      "text/plain": [
       "<Figure size 1440x576 with 1 Axes>"
      ]
     },
     "metadata": {
      "tags": []
     },
     "output_type": "display_data"
    }
   ],
   "source": [
    "plt.figure(figsize=(20,8))\n",
    "sns.boxplot(x='Age',y='BS Fast',data=df)\n",
    "plt.title('Box Plot of Age with Blood Sugar Level')"
   ]
  },
  {
   "cell_type": "code",
   "execution_count": 0,
   "metadata": {
    "colab": {
     "base_uri": "https://localhost:8080/",
     "height": 552
    },
    "colab_type": "code",
    "id": "LL5QZsmd_xRu",
    "outputId": "742b43d7-7431-4dc4-a9e3-11848bcaaac2"
   },
   "outputs": [
    {
     "data": {
      "text/plain": [
       "Text(0.5, 1.0, 'Box Plot of Age with Blood Sugar Level')"
      ]
     },
     "execution_count": 12,
     "metadata": {
      "tags": []
     },
     "output_type": "execute_result"
    },
    {
     "data": {
      "image/png": "[encoded data removed]",
      "text/plain": [
       "<Figure size 1440x576 with 1 Axes>"
      ]
     },
     "metadata": {
      "tags": []
     },
     "output_type": "display_data"
    }
   ],
   "source": [
    "plt.figure(figsize=(20,8))\n",
    "sns.scatterplot(x='Age',y='BS Fast',data=df,hue='Type')\n",
    "plt.title('Box Plot of Age with Blood Sugar Level')"
   ]
  },
  {
   "cell_type": "code",
   "execution_count": 0,
   "metadata": {
    "colab": {
     "base_uri": "https://localhost:8080/",
     "height": 906
    },
    "colab_type": "code",
    "id": "oRCBW4Kxh48F",
    "outputId": "65d4549b-b6af-4d54-8a46-5dfea33a3d80"
   },
   "outputs": [
    {
     "data": {
      "text/plain": [
       "<matplotlib.axes._subplots.AxesSubplot at 0x7fd539e0ee48>"
      ]
     },
     "execution_count": 13,
     "metadata": {
      "tags": []
     },
     "output_type": "execute_result"
    },
    {
     "data": {
      "image/png": "[encoded data removed]",
      "text/plain": [
       "<Figure size 1296x1080 with 2 Axes>"
      ]
     },
     "metadata": {
      "tags": []
     },
     "output_type": "display_data"
    }
   ],
   "source": [
    "plt.figure(figsize=(18,15))\n",
    "sns.heatmap(df.corr(), annot = True, cmap = 'RdYlGn')"
   ]
  },
  {
   "cell_type": "markdown",
   "metadata": {
    "colab_type": "text",
    "id": "SwrTy1RTw0cc"
   },
   "source": [
    "### Building the ML model"
   ]
  },
  {
   "cell_type": "code",
   "execution_count": 0,
   "metadata": {
    "colab": {},
    "colab_type": "code",
    "id": "TwRuy0lBBjoA"
   },
   "outputs": [],
   "source": [
    "#import the libraries\n",
    "from sklearn.ensemble import RandomForestClassifier\n",
    "from sklearn.ensemble.gradient_boosting import GradientBoostingClassifier\n",
    "from sklearn.model_selection import GridSearchCV\n",
    "from sklearn.model_selection import cross_val_score\n",
    "from sklearn.linear_model import LogisticRegression, LogisticRegressionCV"
   ]
  },
  {
   "cell_type": "code",
   "execution_count": 0,
   "metadata": {
    "colab": {},
    "colab_type": "code",
    "id": "b_axt5odypu1"
   },
   "outputs": [],
   "source": [
    "#from this portion of the code, I noticed that the Type column wasn't even used at all in training model. If it is an important feature in determining whether an individual has diabetes or not, then it probably should be included.\n",
    "X = df.drop('Type',1)\n",
    "y = df.iloc[:,-1]"
   ]
  },
  {
   "cell_type": "code",
   "execution_count": 0,
   "metadata": {
    "colab": {},
    "colab_type": "code",
    "id": "-iBFO5NjzZNA"
   },
   "outputs": [],
   "source": [
    "def compute_score(clf, X, y, scoring='accuracy'):\n",
    "    xval = cross_val_score(clf, X, y, cv = 5, scoring=scoring)\n",
    "    return np.mean(xval) #Cross validation to check for biasness and variance"
   ]
  },
  {
   "cell_type": "code",
   "execution_count": 0,
   "metadata": {
    "colab": {},
    "colab_type": "code",
    "id": "Z-vyfvp_y0pl"
   },
   "outputs": [],
   "source": [
    "#Testing different base models\n",
    "logreg = LogisticRegression()\n",
    "logreg_cv = LogisticRegressionCV()\n",
    "rf = RandomForestClassifier()\n",
    "gboost = GradientBoostingClassifier()\n",
    "models = [logreg, logreg_cv, rf, gboost]"
   ]
  },
  {
   "cell_type": "code",
   "execution_count": 0,
   "metadata": {
    "colab": {
     "base_uri": "https://localhost:8080/",
     "height": 245
    },
    "colab_type": "code",
    "id": "lj4VOWX-zE7x",
    "outputId": "5c5a20f8-11ef-49fc-ae4b-50d470cd86ca"
   },
   "outputs": [
    {
     "name": "stdout",
     "output_type": "stream",
     "text": [
      "Cross-validation of : <class 'sklearn.linear_model._logistic.LogisticRegression'>\n",
      "CV score = 0.9504359391162996\n",
      "****\n",
      "Cross-validation of : <class 'sklearn.linear_model._logistic.LogisticRegressionCV'>\n",
      "CV score = 0.9980148761144771\n",
      "****\n",
      "Cross-validation of : <class 'sklearn.ensemble._forest.RandomForestClassifier'>\n",
      "CV score = 1.0\n",
      "****\n",
      "Cross-validation of : <class 'sklearn.ensemble._gb.GradientBoostingClassifier'>\n",
      "CV score = 1.0\n",
      "****\n"
     ]
    }
   ],
   "source": [
    "for model in models:\n",
    "    print('Cross-validation of : {0}'.format(model.__class__))\n",
    "    score = compute_score(clf=model, X=X, y=y, scoring='accuracy')\n",
    "    print('CV score = {0}'.format(score))\n",
    "    print('****')"
   ]
  },
  {
   "cell_type": "code",
   "execution_count": 0,
   "metadata": {
    "colab": {},
    "colab_type": "code",
    "id": "2rpk07YRzllU"
   },
   "outputs": [],
   "source": [
    "#Lets try train test split\n",
    "from sklearn.model_selection import train_test_split\n",
    "X_train, X_test, y_train, y_test = train_test_split(X, y, test_size=0.33, random_state=0)"
   ]
  },
  {
   "cell_type": "code",
   "execution_count": 0,
   "metadata": {
    "colab": {},
    "colab_type": "code",
    "id": "tV1pYkRy0f2K"
   },
   "outputs": [],
   "source": [
    "#Using the random forest algorithm\n",
    "model = rf.fit(X_train,y_train)"
   ]
  },
  {
   "cell_type": "code",
   "execution_count": 0,
   "metadata": {
    "colab": {},
    "colab_type": "code",
    "id": "EBXbJDkb0xvE"
   },
   "outputs": [],
   "source": [
    "y_pred = model.predict(X_test)"
   ]
  },
  {
   "cell_type": "code",
   "execution_count": 0,
   "metadata": {
    "colab": {
     "base_uri": "https://localhost:8080/",
     "height": 207
    },
    "colab_type": "code",
    "id": "mN07n4eL04v8",
    "outputId": "6db180d8-2a85-41ee-f5e8-507b1036cca4"
   },
   "outputs": [
    {
     "name": "stdout",
     "output_type": "stream",
     "text": [
      "              precision    recall  f1-score   support\n",
      "\n",
      "      Normal       1.00      1.00      1.00       215\n",
      "       Type1       1.00      1.00      1.00        56\n",
      "       Type2       1.00      1.00      1.00        62\n",
      "\n",
      "    accuracy                           1.00       333\n",
      "   macro avg       1.00      1.00      1.00       333\n",
      "weighted avg       1.00      1.00      1.00       333\n",
      "\n"
     ]
    }
   ],
   "source": [
    "#Check the prediction precision and accuracy\n",
    "from sklearn.metrics import classification_report\n",
    "\n",
    "print(classification_report(y_test,y_pred))"
   ]
  },
  {
   "cell_type": "code",
   "execution_count": 0,
   "metadata": {
    "colab": {
     "base_uri": "https://localhost:8080/",
     "height": 36
    },
    "colab_type": "code",
    "id": "Gi-PqeSh055y",
    "outputId": "fd639878-84e8-409a-ce8b-b838398c88c8"
   },
   "outputs": [
    {
     "name": "stdout",
     "output_type": "stream",
     "text": [
      "[INFO]: Finished saving model...\n"
     ]
    }
   ],
   "source": [
    "#Saving the model with pickle\n",
    "import pickle\n",
    "\n",
    "# save the model to disk\n",
    "model_name  = 'model.pkl'\n",
    "pickle.dump(model, open(model_name, 'wb'))\n",
    "\n",
    "print(\"[INFO]: Finished saving model...\")"
   ]
  },
  {
   "cell_type": "code",
   "execution_count": 0,
   "metadata": {
    "colab": {},
    "colab_type": "code",
    "id": "m8dfBQZm2NQb"
   },
   "outputs": [],
   "source": []
  }
 ],
 "metadata": {
  "colab": {
   "collapsed_sections": [],
   "name": "Copy of Diabetes-Predict.ipynb",
   "provenance": [],
   "toc_visible": true
  },
  "kernelspec": {
   "display_name": "Python 3",
   "language": "python",
   "name": "python3"
  },
  "language_info": {
   "codemirror_mode": {
    "name": "ipython",
    "version": 3
   },
   "file_extension": ".py",
   "mimetype": "text/x-python",
   "name": "python",
   "nbconvert_exporter": "python",
   "pygments_lexer": "ipython3",
   "version": "3.6.9"
  }
 },
 "nbformat": 4,
 "nbformat_minor": 1
}
